{
  "nbformat": 4,
  "nbformat_minor": 0,
  "metadata": {
    "colab": {
      "provenance": [],
      "mount_file_id": "1SGnm6yP25HPfjjJTEkym0IxvkXDx1nMz",
      "authorship_tag": "ABX9TyN8DrPM5BTud0SUa8OfNGwZ",
      "include_colab_link": true
    },
    "kernelspec": {
      "name": "python3",
      "display_name": "Python 3"
    },
    "language_info": {
      "name": "python"
    }
  },
  "cells": [
    {
      "cell_type": "markdown",
      "metadata": {
        "id": "view-in-github",
        "colab_type": "text"
      },
      "source": [
        "<a href=\"https://colab.research.google.com/github/valderruten/BigData/blob/main/ML_Clasificaci%C3%B3nVinos.ipynb\" target=\"_parent\"><img src=\"https://colab.research.google.com/assets/colab-badge.svg\" alt=\"Open In Colab\"/></a>"
      ]
    },
    {
      "cell_type": "markdown",
      "source": [
        "#Introducción\n",
        "El objetivo de este proyecto es desarrollar un modelo de clasificación, el cual deberá identificar la variedad de uva de un conjunto de vinos basado en sus características visuales y químicas. Las tres variedades posibles están representadas como clases:\n",
        "\n",
        "####0 (Variedad A)\n",
        "####1 (Variedad B)\n",
        "####2 (Variedad C)\n",
        "\n",
        "Pasos a seguir:\n",
        "* Preprocesar los datos.\n",
        "* Entrenar modelos de clasificación.\n",
        "* Evaluar el rendimiento del modelo.\n",
        "* Predecir la clase de dos nuevas muestras de vino.\n",
        "* Documentar el proceso y conclusiones."
      ],
      "metadata": {
        "id": "qJDQ4LV6hBTC"
      }
    },
    {
      "cell_type": "markdown",
      "source": [
        "##Preprocesamiento de Datos\n",
        "###Carga de Librerías necesarias y Datos\n",
        "Iniciar cargando las librerias requeridas para el analisis y un conjunto de datos, el cual fue tomado de https://archive.ics.uci.edu/, el cual contiene características de tres tipos de vinos, dando un coincidencia similar a lo planteado en el ejercicio"
      ],
      "metadata": {
        "id": "ULFCC4tejLkv"
      }
    },
    {
      "cell_type": "code",
      "execution_count": 15,
      "metadata": {
        "colab": {
          "base_uri": "https://localhost:8080/",
          "height": 223
        },
        "id": "xcXdF18iNR9m",
        "outputId": "accb06bb-1fd1-43d4-aefc-aa20c3f36b7e"
      },
      "outputs": [
        {
          "output_type": "execute_result",
          "data": {
            "text/plain": [
              "   Clase  Alcohol  Ácido málico  Cenizas  Alcalinidad de las cenizas  \\\n",
              "0      0    14.23          1.71     2.43                        15.6   \n",
              "1      0    13.20          1.78     2.14                        11.2   \n",
              "2      0    13.16          2.36     2.67                        18.6   \n",
              "3      0    14.37          1.95     2.50                        16.8   \n",
              "4      0    13.24          2.59     2.87                        21.0   \n",
              "\n",
              "   Magnesio  Fenoles totales  Flavonoides  Fenoles no flavonoides  \\\n",
              "0       127             2.80         3.06                    0.28   \n",
              "1       100             2.65         2.76                    0.26   \n",
              "2       101             2.80         3.24                    0.30   \n",
              "3       113             3.85         3.49                    0.24   \n",
              "4       118             2.80         2.69                    0.39   \n",
              "\n",
              "   Proantocianinas  Intensidad de color  Tono  OD280/OD315  Prolina  \n",
              "0             2.29                 5.64  1.04         3.92     1065  \n",
              "1             1.28                 4.38  1.05         3.40     1050  \n",
              "2             2.81                 5.68  1.03         3.17     1185  \n",
              "3             2.18                 7.80  0.86         3.45     1480  \n",
              "4             1.82                 4.32  1.04         2.93      735  "
            ],
            "text/html": [
              "\n",
              "  <div id=\"df-45788b76-ec06-48c7-8c66-ec12ce4759b5\" class=\"colab-df-container\">\n",
              "    <div>\n",
              "<style scoped>\n",
              "    .dataframe tbody tr th:only-of-type {\n",
              "        vertical-align: middle;\n",
              "    }\n",
              "\n",
              "    .dataframe tbody tr th {\n",
              "        vertical-align: top;\n",
              "    }\n",
              "\n",
              "    .dataframe thead th {\n",
              "        text-align: right;\n",
              "    }\n",
              "</style>\n",
              "<table border=\"1\" class=\"dataframe\">\n",
              "  <thead>\n",
              "    <tr style=\"text-align: right;\">\n",
              "      <th></th>\n",
              "      <th>Clase</th>\n",
              "      <th>Alcohol</th>\n",
              "      <th>Ácido málico</th>\n",
              "      <th>Cenizas</th>\n",
              "      <th>Alcalinidad de las cenizas</th>\n",
              "      <th>Magnesio</th>\n",
              "      <th>Fenoles totales</th>\n",
              "      <th>Flavonoides</th>\n",
              "      <th>Fenoles no flavonoides</th>\n",
              "      <th>Proantocianinas</th>\n",
              "      <th>Intensidad de color</th>\n",
              "      <th>Tono</th>\n",
              "      <th>OD280/OD315</th>\n",
              "      <th>Prolina</th>\n",
              "    </tr>\n",
              "  </thead>\n",
              "  <tbody>\n",
              "    <tr>\n",
              "      <th>0</th>\n",
              "      <td>0</td>\n",
              "      <td>14.23</td>\n",
              "      <td>1.71</td>\n",
              "      <td>2.43</td>\n",
              "      <td>15.6</td>\n",
              "      <td>127</td>\n",
              "      <td>2.80</td>\n",
              "      <td>3.06</td>\n",
              "      <td>0.28</td>\n",
              "      <td>2.29</td>\n",
              "      <td>5.64</td>\n",
              "      <td>1.04</td>\n",
              "      <td>3.92</td>\n",
              "      <td>1065</td>\n",
              "    </tr>\n",
              "    <tr>\n",
              "      <th>1</th>\n",
              "      <td>0</td>\n",
              "      <td>13.20</td>\n",
              "      <td>1.78</td>\n",
              "      <td>2.14</td>\n",
              "      <td>11.2</td>\n",
              "      <td>100</td>\n",
              "      <td>2.65</td>\n",
              "      <td>2.76</td>\n",
              "      <td>0.26</td>\n",
              "      <td>1.28</td>\n",
              "      <td>4.38</td>\n",
              "      <td>1.05</td>\n",
              "      <td>3.40</td>\n",
              "      <td>1050</td>\n",
              "    </tr>\n",
              "    <tr>\n",
              "      <th>2</th>\n",
              "      <td>0</td>\n",
              "      <td>13.16</td>\n",
              "      <td>2.36</td>\n",
              "      <td>2.67</td>\n",
              "      <td>18.6</td>\n",
              "      <td>101</td>\n",
              "      <td>2.80</td>\n",
              "      <td>3.24</td>\n",
              "      <td>0.30</td>\n",
              "      <td>2.81</td>\n",
              "      <td>5.68</td>\n",
              "      <td>1.03</td>\n",
              "      <td>3.17</td>\n",
              "      <td>1185</td>\n",
              "    </tr>\n",
              "    <tr>\n",
              "      <th>3</th>\n",
              "      <td>0</td>\n",
              "      <td>14.37</td>\n",
              "      <td>1.95</td>\n",
              "      <td>2.50</td>\n",
              "      <td>16.8</td>\n",
              "      <td>113</td>\n",
              "      <td>3.85</td>\n",
              "      <td>3.49</td>\n",
              "      <td>0.24</td>\n",
              "      <td>2.18</td>\n",
              "      <td>7.80</td>\n",
              "      <td>0.86</td>\n",
              "      <td>3.45</td>\n",
              "      <td>1480</td>\n",
              "    </tr>\n",
              "    <tr>\n",
              "      <th>4</th>\n",
              "      <td>0</td>\n",
              "      <td>13.24</td>\n",
              "      <td>2.59</td>\n",
              "      <td>2.87</td>\n",
              "      <td>21.0</td>\n",
              "      <td>118</td>\n",
              "      <td>2.80</td>\n",
              "      <td>2.69</td>\n",
              "      <td>0.39</td>\n",
              "      <td>1.82</td>\n",
              "      <td>4.32</td>\n",
              "      <td>1.04</td>\n",
              "      <td>2.93</td>\n",
              "      <td>735</td>\n",
              "    </tr>\n",
              "  </tbody>\n",
              "</table>\n",
              "</div>\n",
              "    <div class=\"colab-df-buttons\">\n",
              "\n",
              "  <div class=\"colab-df-container\">\n",
              "    <button class=\"colab-df-convert\" onclick=\"convertToInteractive('df-45788b76-ec06-48c7-8c66-ec12ce4759b5')\"\n",
              "            title=\"Convert this dataframe to an interactive table.\"\n",
              "            style=\"display:none;\">\n",
              "\n",
              "  <svg xmlns=\"http://www.w3.org/2000/svg\" height=\"24px\" viewBox=\"0 -960 960 960\">\n",
              "    <path d=\"M120-120v-720h720v720H120Zm60-500h600v-160H180v160Zm220 220h160v-160H400v160Zm0 220h160v-160H400v160ZM180-400h160v-160H180v160Zm440 0h160v-160H620v160ZM180-180h160v-160H180v160Zm440 0h160v-160H620v160Z\"/>\n",
              "  </svg>\n",
              "    </button>\n",
              "\n",
              "  <style>\n",
              "    .colab-df-container {\n",
              "      display:flex;\n",
              "      gap: 12px;\n",
              "    }\n",
              "\n",
              "    .colab-df-convert {\n",
              "      background-color: #E8F0FE;\n",
              "      border: none;\n",
              "      border-radius: 50%;\n",
              "      cursor: pointer;\n",
              "      display: none;\n",
              "      fill: #1967D2;\n",
              "      height: 32px;\n",
              "      padding: 0 0 0 0;\n",
              "      width: 32px;\n",
              "    }\n",
              "\n",
              "    .colab-df-convert:hover {\n",
              "      background-color: #E2EBFA;\n",
              "      box-shadow: 0px 1px 2px rgba(60, 64, 67, 0.3), 0px 1px 3px 1px rgba(60, 64, 67, 0.15);\n",
              "      fill: #174EA6;\n",
              "    }\n",
              "\n",
              "    .colab-df-buttons div {\n",
              "      margin-bottom: 4px;\n",
              "    }\n",
              "\n",
              "    [theme=dark] .colab-df-convert {\n",
              "      background-color: #3B4455;\n",
              "      fill: #D2E3FC;\n",
              "    }\n",
              "\n",
              "    [theme=dark] .colab-df-convert:hover {\n",
              "      background-color: #434B5C;\n",
              "      box-shadow: 0px 1px 3px 1px rgba(0, 0, 0, 0.15);\n",
              "      filter: drop-shadow(0px 1px 2px rgba(0, 0, 0, 0.3));\n",
              "      fill: #FFFFFF;\n",
              "    }\n",
              "  </style>\n",
              "\n",
              "    <script>\n",
              "      const buttonEl =\n",
              "        document.querySelector('#df-45788b76-ec06-48c7-8c66-ec12ce4759b5 button.colab-df-convert');\n",
              "      buttonEl.style.display =\n",
              "        google.colab.kernel.accessAllowed ? 'block' : 'none';\n",
              "\n",
              "      async function convertToInteractive(key) {\n",
              "        const element = document.querySelector('#df-45788b76-ec06-48c7-8c66-ec12ce4759b5');\n",
              "        const dataTable =\n",
              "          await google.colab.kernel.invokeFunction('convertToInteractive',\n",
              "                                                    [key], {});\n",
              "        if (!dataTable) return;\n",
              "\n",
              "        const docLinkHtml = 'Like what you see? Visit the ' +\n",
              "          '<a target=\"_blank\" href=https://colab.research.google.com/notebooks/data_table.ipynb>data table notebook</a>'\n",
              "          + ' to learn more about interactive tables.';\n",
              "        element.innerHTML = '';\n",
              "        dataTable['output_type'] = 'display_data';\n",
              "        await google.colab.output.renderOutput(dataTable, element);\n",
              "        const docLink = document.createElement('div');\n",
              "        docLink.innerHTML = docLinkHtml;\n",
              "        element.appendChild(docLink);\n",
              "      }\n",
              "    </script>\n",
              "  </div>\n",
              "\n",
              "\n",
              "<div id=\"df-73d3cd2e-e1a3-43bf-a110-8c4ee025fe71\">\n",
              "  <button class=\"colab-df-quickchart\" onclick=\"quickchart('df-73d3cd2e-e1a3-43bf-a110-8c4ee025fe71')\"\n",
              "            title=\"Suggest charts\"\n",
              "            style=\"display:none;\">\n",
              "\n",
              "<svg xmlns=\"http://www.w3.org/2000/svg\" height=\"24px\"viewBox=\"0 0 24 24\"\n",
              "     width=\"24px\">\n",
              "    <g>\n",
              "        <path d=\"M19 3H5c-1.1 0-2 .9-2 2v14c0 1.1.9 2 2 2h14c1.1 0 2-.9 2-2V5c0-1.1-.9-2-2-2zM9 17H7v-7h2v7zm4 0h-2V7h2v10zm4 0h-2v-4h2v4z\"/>\n",
              "    </g>\n",
              "</svg>\n",
              "  </button>\n",
              "\n",
              "<style>\n",
              "  .colab-df-quickchart {\n",
              "      --bg-color: #E8F0FE;\n",
              "      --fill-color: #1967D2;\n",
              "      --hover-bg-color: #E2EBFA;\n",
              "      --hover-fill-color: #174EA6;\n",
              "      --disabled-fill-color: #AAA;\n",
              "      --disabled-bg-color: #DDD;\n",
              "  }\n",
              "\n",
              "  [theme=dark] .colab-df-quickchart {\n",
              "      --bg-color: #3B4455;\n",
              "      --fill-color: #D2E3FC;\n",
              "      --hover-bg-color: #434B5C;\n",
              "      --hover-fill-color: #FFFFFF;\n",
              "      --disabled-bg-color: #3B4455;\n",
              "      --disabled-fill-color: #666;\n",
              "  }\n",
              "\n",
              "  .colab-df-quickchart {\n",
              "    background-color: var(--bg-color);\n",
              "    border: none;\n",
              "    border-radius: 50%;\n",
              "    cursor: pointer;\n",
              "    display: none;\n",
              "    fill: var(--fill-color);\n",
              "    height: 32px;\n",
              "    padding: 0;\n",
              "    width: 32px;\n",
              "  }\n",
              "\n",
              "  .colab-df-quickchart:hover {\n",
              "    background-color: var(--hover-bg-color);\n",
              "    box-shadow: 0 1px 2px rgba(60, 64, 67, 0.3), 0 1px 3px 1px rgba(60, 64, 67, 0.15);\n",
              "    fill: var(--button-hover-fill-color);\n",
              "  }\n",
              "\n",
              "  .colab-df-quickchart-complete:disabled,\n",
              "  .colab-df-quickchart-complete:disabled:hover {\n",
              "    background-color: var(--disabled-bg-color);\n",
              "    fill: var(--disabled-fill-color);\n",
              "    box-shadow: none;\n",
              "  }\n",
              "\n",
              "  .colab-df-spinner {\n",
              "    border: 2px solid var(--fill-color);\n",
              "    border-color: transparent;\n",
              "    border-bottom-color: var(--fill-color);\n",
              "    animation:\n",
              "      spin 1s steps(1) infinite;\n",
              "  }\n",
              "\n",
              "  @keyframes spin {\n",
              "    0% {\n",
              "      border-color: transparent;\n",
              "      border-bottom-color: var(--fill-color);\n",
              "      border-left-color: var(--fill-color);\n",
              "    }\n",
              "    20% {\n",
              "      border-color: transparent;\n",
              "      border-left-color: var(--fill-color);\n",
              "      border-top-color: var(--fill-color);\n",
              "    }\n",
              "    30% {\n",
              "      border-color: transparent;\n",
              "      border-left-color: var(--fill-color);\n",
              "      border-top-color: var(--fill-color);\n",
              "      border-right-color: var(--fill-color);\n",
              "    }\n",
              "    40% {\n",
              "      border-color: transparent;\n",
              "      border-right-color: var(--fill-color);\n",
              "      border-top-color: var(--fill-color);\n",
              "    }\n",
              "    60% {\n",
              "      border-color: transparent;\n",
              "      border-right-color: var(--fill-color);\n",
              "    }\n",
              "    80% {\n",
              "      border-color: transparent;\n",
              "      border-right-color: var(--fill-color);\n",
              "      border-bottom-color: var(--fill-color);\n",
              "    }\n",
              "    90% {\n",
              "      border-color: transparent;\n",
              "      border-bottom-color: var(--fill-color);\n",
              "    }\n",
              "  }\n",
              "</style>\n",
              "\n",
              "  <script>\n",
              "    async function quickchart(key) {\n",
              "      const quickchartButtonEl =\n",
              "        document.querySelector('#' + key + ' button');\n",
              "      quickchartButtonEl.disabled = true;  // To prevent multiple clicks.\n",
              "      quickchartButtonEl.classList.add('colab-df-spinner');\n",
              "      try {\n",
              "        const charts = await google.colab.kernel.invokeFunction(\n",
              "            'suggestCharts', [key], {});\n",
              "      } catch (error) {\n",
              "        console.error('Error during call to suggestCharts:', error);\n",
              "      }\n",
              "      quickchartButtonEl.classList.remove('colab-df-spinner');\n",
              "      quickchartButtonEl.classList.add('colab-df-quickchart-complete');\n",
              "    }\n",
              "    (() => {\n",
              "      let quickchartButtonEl =\n",
              "        document.querySelector('#df-73d3cd2e-e1a3-43bf-a110-8c4ee025fe71 button');\n",
              "      quickchartButtonEl.style.display =\n",
              "        google.colab.kernel.accessAllowed ? 'block' : 'none';\n",
              "    })();\n",
              "  </script>\n",
              "</div>\n",
              "\n",
              "    </div>\n",
              "  </div>\n"
            ],
            "application/vnd.google.colaboratory.intrinsic+json": {
              "type": "dataframe",
              "variable_name": "vinos",
              "summary": "{\n  \"name\": \"vinos\",\n  \"rows\": 178,\n  \"fields\": [\n    {\n      \"column\": \"Clase\",\n      \"properties\": {\n        \"dtype\": \"number\",\n        \"std\": 0,\n        \"min\": 0,\n        \"max\": 2,\n        \"num_unique_values\": 3,\n        \"samples\": [\n          0,\n          1,\n          2\n        ],\n        \"semantic_type\": \"\",\n        \"description\": \"\"\n      }\n    },\n    {\n      \"column\": \"Alcohol\",\n      \"properties\": {\n        \"dtype\": \"number\",\n        \"std\": 0.8118265380058577,\n        \"min\": 11.03,\n        \"max\": 14.83,\n        \"num_unique_values\": 126,\n        \"samples\": [\n          11.62,\n          13.64,\n          13.69\n        ],\n        \"semantic_type\": \"\",\n        \"description\": \"\"\n      }\n    },\n    {\n      \"column\": \"\\u00c1cido m\\u00e1lico\",\n      \"properties\": {\n        \"dtype\": \"number\",\n        \"std\": 1.1171460976144627,\n        \"min\": 0.74,\n        \"max\": 5.8,\n        \"num_unique_values\": 133,\n        \"samples\": [\n          1.21,\n          2.83,\n          1.8\n        ],\n        \"semantic_type\": \"\",\n        \"description\": \"\"\n      }\n    },\n    {\n      \"column\": \"Cenizas\",\n      \"properties\": {\n        \"dtype\": \"number\",\n        \"std\": 0.2743440090608148,\n        \"min\": 1.36,\n        \"max\": 3.23,\n        \"num_unique_values\": 79,\n        \"samples\": [\n          2.31,\n          2.43,\n          2.52\n        ],\n        \"semantic_type\": \"\",\n        \"description\": \"\"\n      }\n    },\n    {\n      \"column\": \"Alcalinidad de las cenizas\",\n      \"properties\": {\n        \"dtype\": \"number\",\n        \"std\": 3.3395637671735052,\n        \"min\": 10.6,\n        \"max\": 30.0,\n        \"num_unique_values\": 63,\n        \"samples\": [\n          25.5,\n          28.5,\n          15.6\n        ],\n        \"semantic_type\": \"\",\n        \"description\": \"\"\n      }\n    },\n    {\n      \"column\": \"Magnesio\",\n      \"properties\": {\n        \"dtype\": \"number\",\n        \"std\": 14,\n        \"min\": 70,\n        \"max\": 162,\n        \"num_unique_values\": 53,\n        \"samples\": [\n          126,\n          85,\n          162\n        ],\n        \"semantic_type\": \"\",\n        \"description\": \"\"\n      }\n    },\n    {\n      \"column\": \"Fenoles totales\",\n      \"properties\": {\n        \"dtype\": \"number\",\n        \"std\": 0.6258510488339891,\n        \"min\": 0.98,\n        \"max\": 3.88,\n        \"num_unique_values\": 97,\n        \"samples\": [\n          1.68,\n          2.11,\n          1.35\n        ],\n        \"semantic_type\": \"\",\n        \"description\": \"\"\n      }\n    },\n    {\n      \"column\": \"Flavonoides\",\n      \"properties\": {\n        \"dtype\": \"number\",\n        \"std\": 0.9988586850169465,\n        \"min\": 0.34,\n        \"max\": 5.08,\n        \"num_unique_values\": 132,\n        \"samples\": [\n          3.18,\n          2.5,\n          3.17\n        ],\n        \"semantic_type\": \"\",\n        \"description\": \"\"\n      }\n    },\n    {\n      \"column\": \"Fenoles no flavonoides\",\n      \"properties\": {\n        \"dtype\": \"number\",\n        \"std\": 0.12445334029667939,\n        \"min\": 0.13,\n        \"max\": 0.66,\n        \"num_unique_values\": 39,\n        \"samples\": [\n          0.58,\n          0.41,\n          0.39\n        ],\n        \"semantic_type\": \"\",\n        \"description\": \"\"\n      }\n    },\n    {\n      \"column\": \"Proantocianinas\",\n      \"properties\": {\n        \"dtype\": \"number\",\n        \"std\": 0.5723588626747611,\n        \"min\": 0.41,\n        \"max\": 3.58,\n        \"num_unique_values\": 101,\n        \"samples\": [\n          0.75,\n          1.77,\n          1.42\n        ],\n        \"semantic_type\": \"\",\n        \"description\": \"\"\n      }\n    },\n    {\n      \"column\": \"Intensidad de color\",\n      \"properties\": {\n        \"dtype\": \"number\",\n        \"std\": 2.318285871822413,\n        \"min\": 1.28,\n        \"max\": 13.0,\n        \"num_unique_values\": 132,\n        \"samples\": [\n          2.95,\n          3.3,\n          5.1\n        ],\n        \"semantic_type\": \"\",\n        \"description\": \"\"\n      }\n    },\n    {\n      \"column\": \"Tono\",\n      \"properties\": {\n        \"dtype\": \"number\",\n        \"std\": 0.22857156582982338,\n        \"min\": 0.48,\n        \"max\": 1.71,\n        \"num_unique_values\": 78,\n        \"samples\": [\n          1.22,\n          1.04,\n          1.45\n        ],\n        \"semantic_type\": \"\",\n        \"description\": \"\"\n      }\n    },\n    {\n      \"column\": \"OD280/OD315\",\n      \"properties\": {\n        \"dtype\": \"number\",\n        \"std\": 0.7099904287650505,\n        \"min\": 1.27,\n        \"max\": 4.0,\n        \"num_unique_values\": 122,\n        \"samples\": [\n          4.0,\n          1.82,\n          1.59\n        ],\n        \"semantic_type\": \"\",\n        \"description\": \"\"\n      }\n    },\n    {\n      \"column\": \"Prolina\",\n      \"properties\": {\n        \"dtype\": \"number\",\n        \"std\": 314,\n        \"min\": 278,\n        \"max\": 1680,\n        \"num_unique_values\": 121,\n        \"samples\": [\n          1375,\n          1270,\n          735\n        ],\n        \"semantic_type\": \"\",\n        \"description\": \"\"\n      }\n    }\n  ]\n}"
            }
          },
          "metadata": {},
          "execution_count": 15
        }
      ],
      "source": [
        "import pandas as pd\n",
        "import numpy as np\n",
        "from sklearn.model_selection import train_test_split\n",
        "from sklearn.preprocessing import StandardScaler\n",
        "import matplotlib.pyplot as plt\n",
        "import seaborn as sns\n",
        "\n",
        "\n",
        "url = \"https://archive.ics.uci.edu/ml/machine-learning-databases/wine/wine.data\"\n",
        "columnas = ['Clase', 'Alcohol', 'Ácido málico', 'Cenizas', 'Alcalinidad de las cenizas',\n",
        "            'Magnesio', 'Fenoles totales', 'Flavonoides', 'Fenoles no flavonoides',\n",
        "            'Proantocianinas', 'Intensidad de color', 'Tono', 'OD280/OD315', 'Prolina']\n",
        "\n",
        "vinos = pd.read_csv(url, header=None, names=columnas)\n",
        "vinos['Clase'] = vinos['Clase'].replace({1: 0, 2: 1, 3: 2})\n",
        "vinos.head()\n"
      ]
    },
    {
      "cell_type": "markdown",
      "source": [
        "###Revisión de Datos Faltantes y Valores Atípicos\n",
        "Se procede a verificar si hay datos faltantes y si existen valores atípicos que puedan alterar o afectar el entrenamiento del modelo."
      ],
      "metadata": {
        "id": "P1R7q85Yrck_"
      }
    },
    {
      "cell_type": "code",
      "source": [
        "# Verificar datos faltantes\n",
        "print(vinos.isnull().sum())\n",
        "\n",
        "# Mostrar Estadísticas básicas\n",
        "print(vinos.describe())\n"
      ],
      "metadata": {
        "colab": {
          "base_uri": "https://localhost:8080/"
        },
        "id": "mEabC4TmOTQq",
        "outputId": "0a6aca65-324b-416d-bae7-9a26f6f8181e"
      },
      "execution_count": 16,
      "outputs": [
        {
          "output_type": "stream",
          "name": "stdout",
          "text": [
            "Clase                         0\n",
            "Alcohol                       0\n",
            "Ácido málico                  0\n",
            "Cenizas                       0\n",
            "Alcalinidad de las cenizas    0\n",
            "Magnesio                      0\n",
            "Fenoles totales               0\n",
            "Flavonoides                   0\n",
            "Fenoles no flavonoides        0\n",
            "Proantocianinas               0\n",
            "Intensidad de color           0\n",
            "Tono                          0\n",
            "OD280/OD315                   0\n",
            "Prolina                       0\n",
            "dtype: int64\n",
            "            Clase     Alcohol  Ácido málico     Cenizas  \\\n",
            "count  178.000000  178.000000    178.000000  178.000000   \n",
            "mean     0.938202   13.000618      2.336348    2.366517   \n",
            "std      0.775035    0.811827      1.117146    0.274344   \n",
            "min      0.000000   11.030000      0.740000    1.360000   \n",
            "25%      0.000000   12.362500      1.602500    2.210000   \n",
            "50%      1.000000   13.050000      1.865000    2.360000   \n",
            "75%      2.000000   13.677500      3.082500    2.557500   \n",
            "max      2.000000   14.830000      5.800000    3.230000   \n",
            "\n",
            "       Alcalinidad de las cenizas    Magnesio  Fenoles totales  Flavonoides  \\\n",
            "count                  178.000000  178.000000       178.000000   178.000000   \n",
            "mean                    19.494944   99.741573         2.295112     2.029270   \n",
            "std                      3.339564   14.282484         0.625851     0.998859   \n",
            "min                     10.600000   70.000000         0.980000     0.340000   \n",
            "25%                     17.200000   88.000000         1.742500     1.205000   \n",
            "50%                     19.500000   98.000000         2.355000     2.135000   \n",
            "75%                     21.500000  107.000000         2.800000     2.875000   \n",
            "max                     30.000000  162.000000         3.880000     5.080000   \n",
            "\n",
            "       Fenoles no flavonoides  Proantocianinas  Intensidad de color  \\\n",
            "count              178.000000       178.000000           178.000000   \n",
            "mean                 0.361854         1.590899             5.058090   \n",
            "std                  0.124453         0.572359             2.318286   \n",
            "min                  0.130000         0.410000             1.280000   \n",
            "25%                  0.270000         1.250000             3.220000   \n",
            "50%                  0.340000         1.555000             4.690000   \n",
            "75%                  0.437500         1.950000             6.200000   \n",
            "max                  0.660000         3.580000            13.000000   \n",
            "\n",
            "             Tono  OD280/OD315      Prolina  \n",
            "count  178.000000   178.000000   178.000000  \n",
            "mean     0.957449     2.611685   746.893258  \n",
            "std      0.228572     0.709990   314.907474  \n",
            "min      0.480000     1.270000   278.000000  \n",
            "25%      0.782500     1.937500   500.500000  \n",
            "50%      0.965000     2.780000   673.500000  \n",
            "75%      1.120000     3.170000   985.000000  \n",
            "max      1.710000     4.000000  1680.000000  \n"
          ]
        }
      ]
    },
    {
      "cell_type": "markdown",
      "source": [
        "#**Interpretación estadísticas básicas**\n",
        "###***Clase (Variedad de vino):***\n",
        "####***Rango de valores:***\n",
        " 1, 2, 3 (estos valores representan las tres variedades de vino, comúnmente variedades de uvas).\n",
        "####***Distribución:***\n",
        " El valor promedio es cercano a 2 (1.94), lo que sugiere que la clase 2 está ligeramente sobrerrepresentada, pero no por mucho. Las tres clases están presentes en el rango de 1 a 3.\n",
        "\n",
        "***Alcohol:***\n",
        "\n",
        "***Rango de valores:***\n",
        "Entre 11.03% y 14.83%.\n",
        "\n",
        "***Promedio:*** 13%.\n",
        "\n",
        "***Distribución:*** El valor promedio está en 13%, con una dispersión moderada (desviación estándar de 0.81), este valor sugiere una ligera variabilidad en el contenido de alcohol entre las muestras.\n",
        "\n",
        "***Ácido málico***\n",
        "\n",
        "***Rango de valores:**** Va desde 0.74 hasta 5.80.\n",
        "\n",
        "***Promedio:*** 2.33.\n",
        "\n",
        "***Distribución:*** Es una de las variables más fluctuantes, con una desviación estándar considerable (1.12), lo que sugiere que la cantidad de ácido málico varía notablemente entre las distintas variedades de vino.\n",
        "\n",
        "***Cenizas:***\n",
        "\n",
        "***Rango de valores:*** Entre 1.36 y 3.23.\n",
        "\n",
        "***Promedio:*** 2.37.\n",
        "\n",
        "***Distribución:*** Los valores se encuentran muy concentrados respecto  al promedio, con una desviación estándar de 0.27.\n",
        "\n",
        "***Alcalinidad de las cenizas:***\n",
        "\n",
        "***Rango de valores:*** Va de 10.6 a 30.\n",
        "\n",
        "***Promedio:*** 19.49.\n",
        "\n",
        "***Distribución:*** Es una característica con bastante variabilidad entre las muestras de vino, lo que se refleja en su desviación estándar de 3.34.\n",
        "\n",
        "***Magnesio:***\n",
        "\n",
        "***Rango de valores:*** Entre 70 y 162.\n",
        "\n",
        "***Promedio:*** 99.74.\n",
        "\n",
        "***Distribución:*** Aunque el promedio está en 99.74, algunos vinos tienen niveles altos de magnesio (162), lo que indica que esta es una característica importante para diferenciar las variedades de vino.\n",
        "\n",
        "***Fenoles totales:***\n",
        "\n",
        "***Rango de valores:*** Entre 0.98 y 3.88.\n",
        "\n",
        "***Promedio:*** 2.30.\n",
        "\n",
        "***Distribución:*** Los fenoles totales muestran una dispersión considerable, con una desviación estándar de 0.63, lo que indica una variabilidad notable en la concentración de fenoles entre las distintas muestras.\n",
        "\n",
        "***Flavonoides***\n",
        "\n",
        "***Rango de valores:*** Entre 0.34 y 5.08.\n",
        "\n",
        "***Promedio:*** 2.03.\n",
        "\n",
        "***Distribución:*** La variabilidad en los flavonoides es bastante elevada (desviación estándar de 0.99), lo que podría ser un factor clave para la clasificación de las diferentes variedades de vino.\n",
        "\n",
        "***Fenoles no flavonoides:***\n",
        "\n",
        "***Rango de valores:*** Entre 0.13 y 0.66.\n",
        "\n",
        "***Promedio:*** 0.36.\n",
        "\n",
        "***Distribución:*** La variabilidad en esta característica es menor en comparación con otras, con una desviación estándar de 0.12.\n",
        "\n",
        "***Proantocianinas:***\n",
        "\n",
        "***Rango de valores:*** Entre 0.41 y 3.58.\n",
        "\n",
        "***Promedio:*** 1.59.\n",
        "\n",
        "***Distribución:*** Hay una variabilidad notable en esta característica con una desviación estándar de 0.57.\n",
        "\n",
        "***Intensidad de color:***\n",
        "\n",
        "***Rango de valores:*** Entre 1.28 y 13.00.\n",
        "\n",
        "***Promedio:*** 5.06.\n",
        "\n",
        "***Distribución:*** Esta es una de las características con mayor variabilidad, con una desviación estándar de 2.31, lo que indica diferencias notables en el color de los vinos.\n",
        "\n",
        "***Tono:***\n",
        "\n",
        "***Rango de valores:*** Entre 0.48 y 1.71.\n",
        "\n",
        "***Promedio:*** 0.96.\n",
        "\n",
        "***Distribución:*** Es una característica con menor variabilidad en comparación con otras, con una desviación estándar de 0.23.\n",
        "\n",
        "***OD280/OD315:*** (Relación de absorbancia a 280 nm y 315 nm)\n",
        "\n",
        "***Rango de valores:*** Entre 1.27 y 4.00.\n",
        "\n",
        "***Promedio:*** 2.61.\n",
        "\n",
        "***Distribución:*** Es un buen indicador de la presencia de fenoles y otros compuestos que influyen en el sabor y el color del vino. Su desviación estándar de 0.71 sugiere una variabilidad moderada.\n",
        "\n",
        "***Prolina:***\n",
        "\n",
        "***Rango de valores:*** Entre 278 y 1680.\n",
        "\n",
        "***Promedio:*** 746.89.\n",
        "\n",
        "***Distribución:*** La prolina es el aminoácido más abundante en el vino y presenta una alta variabilidad (desviación estándar de 314.91), lo que la convierte en un posible buen predictor para clasificar el tipo de vino.\n",
        "\n",
        "***Conclusión General:***\n",
        "\n",
        "El conjunto de datos incluye tanto características químicas como físicas de las muestras de vino, mostrando variaciones significativas en ciertos atributos como el contenido de ácido málico, fenoles totales, proantocianinas, intensidad de color y prolina. En contraste, otras características, como las cenizas y el tono, presentan una menor variabilidad. Este análisis sugiere que algunas de estas variables podrían desempeñar un papel clave en la clasificación de las distintas variedades de vino.\n",
        "\n",
        "Además, el conjunto de datos está completo, sin valores faltantes, lo que lo convierte en un excelente punto de partida para entrenar modelos de clasificación en machine learning. La variabilidad en las características aportará información valiosa para diferenciar las distintas clases de vino."
      ],
      "metadata": {
        "id": "BuG6x7b5SKRV"
      }
    },
    {
      "cell_type": "markdown",
      "source": [
        "##Visualización de valores atípicos"
      ],
      "metadata": {
        "id": "mtUD36NG6tGU"
      }
    },
    {
      "cell_type": "code",
      "source": [
        "# Visualización de valores atípicos\n",
        "sns.boxplot(data=vinos.drop(columns=['Clase']), orient='h')\n",
        "plt.show()"
      ],
      "metadata": {
        "colab": {
          "base_uri": "https://localhost:8080/",
          "height": 430
        },
        "id": "AiBjFdBBOfJU",
        "outputId": "fdf1d6b3-f0d4-46ed-f2e7-c70f7c39486b"
      },
      "execution_count": 17,
      "outputs": [
        {
          "output_type": "display_data",
          "data": {
            "text/plain": [
              "<Figure size 640x480 with 1 Axes>"
            ],
            "image/png": "[encoded data removed]"
          },
          "metadata": {}
        }
      ]
    },
    {
      "cell_type": "markdown",
      "source": [
        "La gráfica muestra los valores atípicos para cada una de las características químicas del vino (excepto la variable Clase, que es la que se requiere predecir).\n",
        "\n",
        "Puntos clave:\n",
        "\n",
        "***Prolina:*** Es la variable con los valores más altos (rango entre 500 y 1700). Tiene una gran dispersión y algunos outliers en el extremo superior, aunque no parece haber valores extremadamente lejanos.\n",
        "\n",
        "***Magnesio:*** Muestra algunos valores atípicos en el rango bajo. Esto sugiere que, aunque la mayoría de los datos están agrupados entre 80 y 130, algunos puntos son considerablemente menores a este rango.\n",
        "\n",
        "***Alcalinidad de las cenizas:*** Hay algunos outliers presentes, lo que indica que los datos tienen algunas observaciones que caen fuera del rango esperado.\n",
        "\n",
        "***OD280/OD315 y tono:*** No muestran outliers significativos, lo que indica una distribución más concentrada y sin valores muy alejados del rango normal.\n",
        "\n",
        "La mayoría de las variables como alcohol, ácido málico, cenizas, fenoles totales, flavonoides, y otras: Aunque hay algunos puntos fuera de rango, no presentan outliers tan significativos como en el caso de la prolina.\n"
      ],
      "metadata": {
        "id": "YRcwkEwA0MVZ"
      }
    },
    {
      "cell_type": "markdown",
      "source": [
        "##Balanceo de Clases\n",
        "Se revisará si el conjunto de datos está equilibrado en cuanto a las clases (variedades de uva)."
      ],
      "metadata": {
        "id": "w_HwsAOdGLmL"
      }
    },
    {
      "cell_type": "code",
      "source": [
        "# Revisión del balance de las clases\n",
        "sns.countplot(x='Clase', data=vinos)\n",
        "plt.title('Distribución de clases')\n",
        "plt.show()\n"
      ],
      "metadata": {
        "colab": {
          "base_uri": "https://localhost:8080/",
          "height": 472
        },
        "id": "l7dvO-QcOsW2",
        "outputId": "1318877a-97cc-4155-f1d6-dec34a32eb7a"
      },
      "execution_count": 18,
      "outputs": [
        {
          "output_type": "display_data",
          "data": {
            "text/plain": [
              "<Figure size 640x480 with 1 Axes>"
            ],
            "image/png": "[encoded data removed]"
          },
          "metadata": {}
        }
      ]
    },
    {
      "cell_type": "markdown",
      "source": [
        "Se representan las tres clases (0, 1, 2) de vinos. Cada barra indica cuántas muestras pertenecen a cada clase.\n",
        "Clase 1 tiene el mayor número de muestras, con alrededor de 70 registros.\n",
        "Clase 0 está bastante cercana a la Clase 1, con aproximadamente 65 muestras.\n",
        "Clase 2 es la más pequeña en comparación con las otras, con alrededor de 45 muestras.\n",
        "Implicaciones:\n",
        "El conjunto de datos no está completamente balanceado, pero la diferencia entre las clases no es tan extrema como para que el modelo deba implementar técnicas complejas de balanceo (como el submuestreo o sobremuestreo).\n",
        "Sin embargo, se debe tener en cuenta que la Clase 2 tiene menos ejemplos que las otras, lo que podría influir en el rendimiento del modelo de clasificación en términos de precisión para esta clase."
      ],
      "metadata": {
        "id": "CWajJk7STUSk"
      }
    },
    {
      "cell_type": "markdown",
      "source": [],
      "metadata": {
        "id": "6RwodCq0XbSG"
      }
    },
    {
      "cell_type": "markdown",
      "source": [
        "##División de los Datos y Estandarización\n",
        "Se dividen los datos en un conjunto de entrenamiento y uno de prueba, y se estandariza las características para mejorar el rendimiento de los algoritmos de clasificación."
      ],
      "metadata": {
        "id": "9BY1PU9KerXc"
      }
    },
    {
      "cell_type": "code",
      "source": [
        "# División de los datos\n",
        "X = vinos.drop('Clase', axis=1)\n",
        "y = vinos['Clase']\n",
        "\n",
        "X_train, X_test, y_train, y_test = train_test_split(X, y, test_size=0.2, random_state=42)\n",
        "\n",
        "# Estandarización de los datos\n",
        "scaler = StandardScaler()\n",
        "X_train_scaled = scaler.fit_transform(X_train)\n",
        "X_test_scaled = scaler.transform(X_test)\n"
      ],
      "metadata": {
        "id": "54GpPCpkOxHL"
      },
      "execution_count": 19,
      "outputs": []
    },
    {
      "cell_type": "markdown",
      "source": [
        "##Entrenamiento del Modelo\n",
        "###Regresión Logística"
      ],
      "metadata": {
        "id": "pvtba0RQCCe6"
      }
    },
    {
      "cell_type": "code",
      "source": [
        "from sklearn.linear_model import LogisticRegression\n",
        "from sklearn.metrics import classification_report\n",
        "\n",
        "# Entrenar el modelo\n",
        "logreg = LogisticRegression(max_iter=1000)\n",
        "logreg.fit(X_train_scaled, y_train)\n",
        "\n",
        "# Evaluar el rendimiento\n",
        "y_pred_logreg = logreg.predict(X_test_scaled)\n",
        "print(classification_report(y_test, y_pred_logreg))\n"
      ],
      "metadata": {
        "colab": {
          "base_uri": "https://localhost:8080/"
        },
        "id": "NTeWznqiCKOg",
        "outputId": "08092eff-dfe9-4d89-a509-3d0b5673ade2"
      },
      "execution_count": 20,
      "outputs": [
        {
          "output_type": "stream",
          "name": "stdout",
          "text": [
            "              precision    recall  f1-score   support\n",
            "\n",
            "           0       1.00      1.00      1.00        14\n",
            "           1       1.00      1.00      1.00        14\n",
            "           2       1.00      1.00      1.00         8\n",
            "\n",
            "    accuracy                           1.00        36\n",
            "   macro avg       1.00      1.00      1.00        36\n",
            "weighted avg       1.00      1.00      1.00        36\n",
            "\n"
          ]
        }
      ]
    },
    {
      "cell_type": "markdown",
      "source": [
        "En el proyecto de clasificación de vinos, se utilizó un modelo de Regresión Logística para predecir a qué variedad pertenece cada vino, basándose en sus características químicas. El resultado ha sido muy satisfactorio. Te explico los puntos clave:\n",
        "\n",
        "Rendimiento del Modelo\n",
        "\n",
        "Precisión: El modelo obtuvo un 100% de precisión para las tres clases (0, 1 y 2). Esto significa que todas las predicciones del modelo fueron correctas, sin errores. En otras palabras, cada vez que el modelo dijo que un vino era de una variedad específica, acertó.\n",
        "Recall: También fue perfecto con 100%. Esto nos dice que el modelo no dejó pasar ningún vino sin identificar correctamente.\n",
        "f1-score: Este valor es una combinación de la precisión y el recall, y fue del 100%, lo que nos confirma que el modelo es robusto y consistente en su capacidad de clasificar los vinos correctamente.\n",
        "Exactitud Global (Accuracy)\n",
        "\n",
        "El modelo tiene una exactitud global del 100%, lo que significa que todas las muestras del conjunto de prueba se clasificaron correctamente.\n",
        "Datos del Conjunto de Prueba\n",
        "\n",
        "Para evaluar el modelo, probamos con 36 vinos, distribuidos en tres clases: 14 vinos de la clase 0, 14 de la clase 1, y 8 de la clase 2. A pesar de que había un número menor de vinos en la clase 2, el modelo los identificó correctamente.\n",
        "Aspectos a Considerar\n",
        "\n",
        "Aunque el modelo tuvo un rendimiento impecable, esto podría deberse a que el conjunto de datos es relativamente pequeño y bien estructurado. Para garantizar que el modelo funcione igual de bien con datos nuevos o más complejos, sugerimos hacer más pruebas, como una validación cruzada."
      ],
      "metadata": {
        "id": "MW6-sy1aYPZl"
      }
    },
    {
      "cell_type": "code",
      "source": [
        "scaler = StandardScaler()\n",
        "X_train_scaled = scaler.fit_transform(X_train)\n",
        "X_test_scaled = scaler.transform(X_test)\n"
      ],
      "metadata": {
        "id": "wuvt4SfhO0xF"
      },
      "execution_count": 21,
      "outputs": []
    },
    {
      "cell_type": "code",
      "source": [
        "from sklearn.neighbors import KNeighborsClassifier\n",
        "from sklearn.ensemble import RandomForestClassifier\n",
        "from sklearn.svm import SVC\n",
        "\n",
        "models = {\n",
        "    \"KNN\": KNeighborsClassifier(),\n",
        "    \"Random Forest\": RandomForestClassifier(),\n",
        "    \"SVM\": SVC()\n",
        "}\n",
        "\n",
        "for name, model in models.items():\n",
        "    model.fit(X_train_scaled, y_train)\n",
        "    y_pred = model.predict(X_test_scaled)\n",
        "    print(f\"{name} Classification Report:\")\n",
        "    print(classification_report(y_test, y_pred))\n",
        "    print(confusion_matrix(y_test, y_pred))\n"
      ],
      "metadata": {
        "colab": {
          "base_uri": "https://localhost:8080/"
        },
        "id": "VckrWElqO6nu",
        "outputId": "a645350c-42f5-4964-8ed2-595a0fa21a39"
      },
      "execution_count": 22,
      "outputs": [
        {
          "output_type": "stream",
          "name": "stdout",
          "text": [
            "KNN Classification Report:\n",
            "              precision    recall  f1-score   support\n",
            "\n",
            "           0       0.93      1.00      0.97        14\n",
            "           1       1.00      0.86      0.92        14\n",
            "           2       0.89      1.00      0.94         8\n",
            "\n",
            "    accuracy                           0.94        36\n",
            "   macro avg       0.94      0.95      0.94        36\n",
            "weighted avg       0.95      0.94      0.94        36\n",
            "\n",
            "[[14  0  0]\n",
            " [ 1 12  1]\n",
            " [ 0  0  8]]\n",
            "Random Forest Classification Report:\n",
            "              precision    recall  f1-score   support\n",
            "\n",
            "           0       1.00      1.00      1.00        14\n",
            "           1       1.00      1.00      1.00        14\n",
            "           2       1.00      1.00      1.00         8\n",
            "\n",
            "    accuracy                           1.00        36\n",
            "   macro avg       1.00      1.00      1.00        36\n",
            "weighted avg       1.00      1.00      1.00        36\n",
            "\n",
            "[[14  0  0]\n",
            " [ 0 14  0]\n",
            " [ 0  0  8]]\n",
            "SVM Classification Report:\n",
            "              precision    recall  f1-score   support\n",
            "\n",
            "           0       1.00      1.00      1.00        14\n",
            "           1       1.00      1.00      1.00        14\n",
            "           2       1.00      1.00      1.00         8\n",
            "\n",
            "    accuracy                           1.00        36\n",
            "   macro avg       1.00      1.00      1.00        36\n",
            "weighted avg       1.00      1.00      1.00        36\n",
            "\n",
            "[[14  0  0]\n",
            " [ 0 14  0]\n",
            " [ 0  0  8]]\n"
          ]
        }
      ]
    },
    {
      "cell_type": "markdown",
      "source": [
        "1. **K-Nearest Neighbors (KNN)**: Hubo una precisión general del 94%, con algunos errores al clasificar las clases 1 y 2, lo que indica una pequeña confusión en esas categorías.\n",
        "\n",
        "2. **Random Forest**: Precisión perfecta del 100%, clasificando correctamente todas las muestras en las tres clases. Sin errores en la matriz de confusión.\n",
        "\n",
        "3. **Support Vector Machine (SVM)**: Precisión del 100%, sin errores de clasificación, mostrando un rendimiento igual al de Random Forest.\n",
        "\n",
        "**Conclusión**: Tanto **Random Forest** como **SVM** clasificaron de manera optima las muestras y son las mejores opciones para este conjunto de datos. KNN, aunque con buenos resultados, mostró ligeras confusiones."
      ],
      "metadata": {
        "id": "jJ10vSHTPg9I"
      }
    },
    {
      "cell_type": "code",
      "source": [
        "from sklearn.metrics import ConfusionMatrixDisplay\n",
        "from sklearn.metrics import confusion_matrix\n",
        "\n",
        "# Generar la matriz de confusión\n",
        "cm = confusion_matrix(y_test, models[\"Random Forest\"].predict(X_test_scaled))\n",
        "\n",
        "# Crear la visualización de la matriz de confusión\n",
        "disp = ConfusionMatrixDisplay(confusion_matrix=cm)\n",
        "\n",
        "# Mostrar la gráfica\n",
        "disp.plot()\n",
        "plt.show()\n"
      ],
      "metadata": {
        "colab": {
          "base_uri": "https://localhost:8080/",
          "height": 455
        },
        "id": "rUOcnVu5O_zI",
        "outputId": "2f5c7d45-6a96-46d5-a502-e2f97b9ccd5f"
      },
      "execution_count": 23,
      "outputs": [
        {
          "output_type": "display_data",
          "data": {
            "text/plain": [
              "<Figure size 640x480 with 2 Axes>"
            ],
            "image/png": "[encoded data removed]"
          },
          "metadata": {}
        }
      ]
    },
    {
      "cell_type": "markdown",
      "source": [
        "El gráfico de la matriz de confusión muestra el rendimiento del modelo de clasificación *Random Forest* al predecir la clase de vinos en el conjunto de prueba. Observamos que:\n",
        "\n",
        "- Todas las predicciones para las clases 0, 1 y 2 son correctas.\n",
        "- No hay errores de clasificación, ya que cada clase en el eje de etiquetas verdaderas coincide perfectamente con el eje de etiquetas predichas.\n",
        "  \n",
        "En resumen, el modelo *Random Forest* logró una precisión perfecta en este caso, clasificando correctamente todas las instancias en sus clases correspondientes. Este desempeño sugiere que el modelo generaliza bien para este conjunto de datos."
      ],
      "metadata": {
        "id": "xHY-a2RjTlHE"
      }
    },
    {
      "cell_type": "code",
      "source": [
        "import pandas as pd\n",
        "import numpy as np\n",
        "\n",
        "# Nuevas muestras de vino:\n",
        "new_samples = [\n",
        "    [13.72, 1.43, 2.5, 16.7, 108, 3.4, 3.67, 0.19, 2.04, 6.8, 0.89, 2.87, 1285],\n",
        "    [12.37, 0.94, 1.36, 10.6, 88, 1.98, 0.57, 0.28, 0.42, 1.95, 1.05, 1.82, 520]\n",
        "]\n",
        "\n",
        "# Traer los nombres de las columnas del DataFrame original 'vinos', excepto 'Clase'\n",
        "column_names = vinos.columns.tolist()  # Convertir a lista para modificar\n",
        "if \"Clase\" in column_names:\n",
        "    column_names.remove(\"Clase\")  # Se elimina la columna  'Clase' si está presente\n",
        "\n",
        "new_samples_df = pd.DataFrame(new_samples, columns=column_names)\n",
        "\n",
        "# Escalar las nuevas muestras\n",
        "new_samples_scaled = scaler.transform(new_samples_df)\n",
        "\n",
        "# Predecir con el modelo Random Forest\n",
        "predictions = models[\"Random Forest\"].predict(new_samples_scaled)\n",
        "print(\"Predicciones de las nuevas muestras:\", predictions)"
      ],
      "metadata": {
        "colab": {
          "base_uri": "https://localhost:8080/"
        },
        "id": "_DPAbHs-PNJ7",
        "outputId": "63506c09-8e48-4696-ae05-372522f03e9c"
      },
      "execution_count": 34,
      "outputs": [
        {
          "output_type": "stream",
          "name": "stdout",
          "text": [
            "Predicciones de las nuevas muestras: [0 1]\n"
          ]
        }
      ]
    }
  ]
}